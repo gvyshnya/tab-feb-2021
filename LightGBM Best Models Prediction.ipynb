{
 "cells": [
  {
   "cell_type": "code",
   "execution_count": 1,
   "metadata": {},
   "outputs": [
    {
     "name": "stderr",
     "output_type": "stream",
     "text": [
      "C:\\ProgramData\\Anaconda3\\lib\\site-packages\\numpy\\_distributor_init.py:32: UserWarning: loaded more than 1 DLL from .libs:\n",
      "C:\\ProgramData\\Anaconda3\\lib\\site-packages\\numpy\\.libs\\libopenblas.IPBC74C7KURV7CB2PKT5Z5FNR3SIBV4J.gfortran-win_amd64.dll\n",
      "C:\\ProgramData\\Anaconda3\\lib\\site-packages\\numpy\\.libs\\libopenblas.WCDJNK7YVMPZQ2ME2ZZHJJRJ3JIKNDB7.gfortran-win_amd64.dll\n",
      "  stacklevel=1)\n",
      "\n",
      "Bad key \"text.kerning_factor\" on line 4 in\n",
      "C:\\ProgramData\\Anaconda3\\lib\\site-packages\\matplotlib\\mpl-data\\stylelib\\_classic_test_patch.mplstyle.\n",
      "You probably need to get an updated matplotlibrc file from\n",
      "http://github.com/matplotlib/matplotlib/blob/master/matplotlibrc.template\n",
      "or from the matplotlib source distribution\n"
     ]
    }
   ],
   "source": [
    "import numpy as np # linear algebra\n",
    "import pandas as pd # data processing, CSV file I/O (e.g. pd.read_csv)\n",
    "import datetime as dt\n",
    "from typing import Tuple, List, Dict\n",
    "\n",
    "import matplotlib.pyplot as plt\n",
    "import seaborn as sns\n",
    "import plotly.graph_objects as go\n",
    "from plotly.subplots import make_subplots\n",
    "import plotly.express as px\n",
    "import plotly.offline\n",
    "\n",
    "from sklearn import preprocessing\n",
    "from sklearn.metrics import mean_squared_error\n",
    "from sklearn.model_selection import train_test_split\n",
    "from sklearn.model_selection import StratifiedKFold, KFold, cross_val_score, cross_validate\n",
    "\n",
    "# permutation importance\n",
    "from sklearn.inspection import permutation_importance\n",
    "\n",
    "import category_encoders as ce\n",
    "\n",
    "\n",
    "# read data\n",
    "in_kaggle = False\n",
    "\n",
    "\n",
    "def get_data_file_path(is_in_kaggle: bool) -> Tuple[str, str, str]:\n",
    "    train_path = ''\n",
    "    test_path = ''\n",
    "    sample_submission_path = ''\n",
    "\n",
    "    if is_in_kaggle:\n",
    "        # running in Kaggle, inside the competition\n",
    "        train_path = '../input/tabular-playground-series-feb-2021/train.csv'\n",
    "        test_path = '../input/tabular-playground-series-feb-2021/test.csv'\n",
    "        sample_submission_path = '../input/tabular-playground-series-jan-2021/sample_submission.csv'\n",
    "    else:\n",
    "        # running locally\n",
    "        train_path = 'data/train.csv'\n",
    "        test_path = 'data/test.csv'\n",
    "        sample_submission_path = 'data/sample_submission.csv'\n",
    "\n",
    "    return train_path, test_path, sample_submission_path\n",
    "\n",
    "def RMSLE(y, pred):\n",
    "    return metrics.mean_squared_error(y, pred) ** 0.5"
   ]
  },
  {
   "cell_type": "code",
   "execution_count": 2,
   "metadata": {},
   "outputs": [],
   "source": [
    "# fix skewness via abs sqrt transform\n",
    "def sqrt_abs_transform(df: pd.DataFrame) -> pd.DataFrame:\n",
    "\n",
    "    for c in df.select_dtypes(include = [np.number]).columns:\n",
    "        df[c] = df[c].abs() ** 0.5\n",
    "    \n",
    "    return df\n",
    "\n",
    "# fix skewness via log transform\n",
    "def log_transform_numeric_cols(data: pd.DataFrame) -> pd.DataFrame:\n",
    "    df = data.copy()\n",
    "    for c in df.select_dtypes(include = [np.number]).columns:\n",
    "        df[c] = np.log(df[c].values+1)\n",
    "    return df\n",
    "\n",
    "# reverse log transform\n",
    "def exp_transform_numeric_cols(data: pd.DataFrame) -> pd.DataFrame:\n",
    "    df = data.copy()\n",
    "    for c in df.select_dtypes(include = [np.number]).columns:\n",
    "        df[c] = np.exp(df[c].values)-1\n",
    "    return df"
   ]
  },
  {
   "cell_type": "code",
   "execution_count": 3,
   "metadata": {},
   "outputs": [
    {
     "name": "stdout",
     "output_type": "stream",
     "text": [
      "Started at  2021-02-13 19:29:32.144923\n"
     ]
    }
   ],
   "source": [
    "# main flow\n",
    "start_time = dt.datetime.now()\n",
    "print(\"Started at \", start_time)"
   ]
  },
  {
   "cell_type": "code",
   "execution_count": 4,
   "metadata": {},
   "outputs": [
    {
     "name": "stdout",
     "output_type": "stream",
     "text": [
      "Wall time: 1.8 s\n"
     ]
    }
   ],
   "source": [
    "%%time\n",
    "# get the training set and labels\n",
    "train_set_path, test_set_path, sample_subm_path = get_data_file_path(in_kaggle)\n",
    "\n",
    "df_train = pd.read_csv(train_set_path)\n",
    "df_test = pd.read_csv(test_set_path)\n",
    "\n",
    "subm = pd.read_csv(sample_subm_path)"
   ]
  },
  {
   "cell_type": "code",
   "execution_count": 5,
   "metadata": {},
   "outputs": [
    {
     "data": {
      "text/html": [
       "<div>\n",
       "<style scoped>\n",
       "    .dataframe tbody tr th:only-of-type {\n",
       "        vertical-align: middle;\n",
       "    }\n",
       "\n",
       "    .dataframe tbody tr th {\n",
       "        vertical-align: top;\n",
       "    }\n",
       "\n",
       "    .dataframe thead th {\n",
       "        text-align: right;\n",
       "    }\n",
       "</style>\n",
       "<table border=\"1\" class=\"dataframe\">\n",
       "  <thead>\n",
       "    <tr style=\"text-align: right;\">\n",
       "      <th></th>\n",
       "      <th>id</th>\n",
       "      <th>cat0</th>\n",
       "      <th>cat1</th>\n",
       "      <th>cat2</th>\n",
       "      <th>cat3</th>\n",
       "      <th>cat4</th>\n",
       "      <th>cat5</th>\n",
       "      <th>cat6</th>\n",
       "      <th>cat7</th>\n",
       "      <th>cat8</th>\n",
       "      <th>...</th>\n",
       "      <th>cont5</th>\n",
       "      <th>cont6</th>\n",
       "      <th>cont7</th>\n",
       "      <th>cont8</th>\n",
       "      <th>cont9</th>\n",
       "      <th>cont10</th>\n",
       "      <th>cont11</th>\n",
       "      <th>cont12</th>\n",
       "      <th>cont13</th>\n",
       "      <th>target</th>\n",
       "    </tr>\n",
       "  </thead>\n",
       "  <tbody>\n",
       "    <tr>\n",
       "      <th>0</th>\n",
       "      <td>1</td>\n",
       "      <td>A</td>\n",
       "      <td>B</td>\n",
       "      <td>A</td>\n",
       "      <td>A</td>\n",
       "      <td>B</td>\n",
       "      <td>D</td>\n",
       "      <td>A</td>\n",
       "      <td>E</td>\n",
       "      <td>C</td>\n",
       "      <td>...</td>\n",
       "      <td>0.881122</td>\n",
       "      <td>0.421650</td>\n",
       "      <td>0.741413</td>\n",
       "      <td>0.895799</td>\n",
       "      <td>0.802461</td>\n",
       "      <td>0.724417</td>\n",
       "      <td>0.701915</td>\n",
       "      <td>0.877618</td>\n",
       "      <td>0.719903</td>\n",
       "      <td>6.994023</td>\n",
       "    </tr>\n",
       "    <tr>\n",
       "      <th>1</th>\n",
       "      <td>2</td>\n",
       "      <td>B</td>\n",
       "      <td>A</td>\n",
       "      <td>A</td>\n",
       "      <td>A</td>\n",
       "      <td>B</td>\n",
       "      <td>B</td>\n",
       "      <td>A</td>\n",
       "      <td>E</td>\n",
       "      <td>A</td>\n",
       "      <td>...</td>\n",
       "      <td>0.440011</td>\n",
       "      <td>0.346230</td>\n",
       "      <td>0.278495</td>\n",
       "      <td>0.593413</td>\n",
       "      <td>0.546056</td>\n",
       "      <td>0.613252</td>\n",
       "      <td>0.741289</td>\n",
       "      <td>0.326679</td>\n",
       "      <td>0.808464</td>\n",
       "      <td>8.071256</td>\n",
       "    </tr>\n",
       "    <tr>\n",
       "      <th>2</th>\n",
       "      <td>3</td>\n",
       "      <td>A</td>\n",
       "      <td>A</td>\n",
       "      <td>A</td>\n",
       "      <td>C</td>\n",
       "      <td>B</td>\n",
       "      <td>D</td>\n",
       "      <td>A</td>\n",
       "      <td>B</td>\n",
       "      <td>C</td>\n",
       "      <td>...</td>\n",
       "      <td>0.914155</td>\n",
       "      <td>0.369602</td>\n",
       "      <td>0.832564</td>\n",
       "      <td>0.865620</td>\n",
       "      <td>0.825251</td>\n",
       "      <td>0.264104</td>\n",
       "      <td>0.695561</td>\n",
       "      <td>0.869133</td>\n",
       "      <td>0.828352</td>\n",
       "      <td>5.760456</td>\n",
       "    </tr>\n",
       "    <tr>\n",
       "      <th>3</th>\n",
       "      <td>4</td>\n",
       "      <td>A</td>\n",
       "      <td>A</td>\n",
       "      <td>A</td>\n",
       "      <td>C</td>\n",
       "      <td>B</td>\n",
       "      <td>D</td>\n",
       "      <td>A</td>\n",
       "      <td>E</td>\n",
       "      <td>G</td>\n",
       "      <td>...</td>\n",
       "      <td>0.934138</td>\n",
       "      <td>0.578930</td>\n",
       "      <td>0.407313</td>\n",
       "      <td>0.868099</td>\n",
       "      <td>0.794402</td>\n",
       "      <td>0.494269</td>\n",
       "      <td>0.698125</td>\n",
       "      <td>0.809799</td>\n",
       "      <td>0.614766</td>\n",
       "      <td>7.806457</td>\n",
       "    </tr>\n",
       "    <tr>\n",
       "      <th>4</th>\n",
       "      <td>6</td>\n",
       "      <td>A</td>\n",
       "      <td>B</td>\n",
       "      <td>A</td>\n",
       "      <td>A</td>\n",
       "      <td>B</td>\n",
       "      <td>B</td>\n",
       "      <td>A</td>\n",
       "      <td>E</td>\n",
       "      <td>C</td>\n",
       "      <td>...</td>\n",
       "      <td>0.382600</td>\n",
       "      <td>0.705940</td>\n",
       "      <td>0.325193</td>\n",
       "      <td>0.440967</td>\n",
       "      <td>0.462146</td>\n",
       "      <td>0.724447</td>\n",
       "      <td>0.683073</td>\n",
       "      <td>0.343457</td>\n",
       "      <td>0.297743</td>\n",
       "      <td>6.868974</td>\n",
       "    </tr>\n",
       "  </tbody>\n",
       "</table>\n",
       "<p>5 rows × 26 columns</p>\n",
       "</div>"
      ],
      "text/plain": [
       "   id cat0 cat1 cat2 cat3 cat4 cat5 cat6 cat7 cat8  ...     cont5     cont6  \\\n",
       "0   1    A    B    A    A    B    D    A    E    C  ...  0.881122  0.421650   \n",
       "1   2    B    A    A    A    B    B    A    E    A  ...  0.440011  0.346230   \n",
       "2   3    A    A    A    C    B    D    A    B    C  ...  0.914155  0.369602   \n",
       "3   4    A    A    A    C    B    D    A    E    G  ...  0.934138  0.578930   \n",
       "4   6    A    B    A    A    B    B    A    E    C  ...  0.382600  0.705940   \n",
       "\n",
       "      cont7     cont8     cont9    cont10    cont11    cont12    cont13  \\\n",
       "0  0.741413  0.895799  0.802461  0.724417  0.701915  0.877618  0.719903   \n",
       "1  0.278495  0.593413  0.546056  0.613252  0.741289  0.326679  0.808464   \n",
       "2  0.832564  0.865620  0.825251  0.264104  0.695561  0.869133  0.828352   \n",
       "3  0.407313  0.868099  0.794402  0.494269  0.698125  0.809799  0.614766   \n",
       "4  0.325193  0.440967  0.462146  0.724447  0.683073  0.343457  0.297743   \n",
       "\n",
       "     target  \n",
       "0  6.994023  \n",
       "1  8.071256  \n",
       "2  5.760456  \n",
       "3  7.806457  \n",
       "4  6.868974  \n",
       "\n",
       "[5 rows x 26 columns]"
      ]
     },
     "execution_count": 5,
     "metadata": {},
     "output_type": "execute_result"
    }
   ],
   "source": [
    "df_train.head()"
   ]
  },
  {
   "cell_type": "code",
   "execution_count": 6,
   "metadata": {},
   "outputs": [],
   "source": [
    "# list of basic raw numeric features\n",
    "num_feature_list = [col for col in df_train.columns if col.startswith('cont')]\n",
    "\n",
    "# list of basic raw numeric features\n",
    "cat_feature_list = [col for col in df_train.columns if col.startswith('cat')]\n",
    "\n",
    "\n",
    "# target labels list\n",
    "target = 'target'\n",
    "\n",
    "# drop sig_id from train and test sets\n",
    "df_train = df_train.drop(['id'], axis=1, errors='ignore')\n",
    "df_test = df_test.drop(['id'], axis=1, errors='ignore')\n"
   ]
  },
  {
   "cell_type": "code",
   "execution_count": 7,
   "metadata": {},
   "outputs": [
    {
     "name": "stderr",
     "output_type": "stream",
     "text": [
      "C:\\ProgramData\\Anaconda3\\lib\\site-packages\\category_encoders\\utils.py:21: FutureWarning:\n",
      "\n",
      "is_categorical is deprecated and will be removed in a future version.  Use is_categorical_dtype instead\n",
      "\n"
     ]
    }
   ],
   "source": [
    "# OHE approach + skeweness correcting via log transform\n",
    "\n",
    "# do additional feature engineering\n",
    "\n",
    "encoder = ce.OneHotEncoder(cols=cat_feature_list, use_cat_names=True, return_df=True)\n",
    "\n",
    "# Assume our loan data has been imported as df already\n",
    "# and split into df_train and df_test\n",
    "df_train_transformed = encoder.fit_transform(df_train)\n",
    "\n",
    "# set a hideout fold \n",
    "\n",
    "y = df_train_transformed['target']\n",
    "X_train, X_hideout, y_train, y_hideout = train_test_split(df_train_transformed, y, test_size=0.3, random_state=42, shuffle=True)\n",
    "\n",
    "X_train = X_train.drop(['target'], axis=1, errors='ignore')\n",
    "X_hideout = X_hideout.drop(['target'], axis=1, errors='ignore')\n",
    "\n",
    "X_train = log_transform_numeric_cols(X_train)\n",
    "X_hideout = log_transform_numeric_cols(X_hideout)"
   ]
  },
  {
   "cell_type": "code",
   "execution_count": 8,
   "metadata": {},
   "outputs": [],
   "source": [
    "from sklearn.metrics import accuracy_score\n",
    "import lightgbm as lgb # LightGBM Model\n",
    "\n",
    "\n",
    "#Additional scklearn functions\n",
    "from sklearn import metrics   \n",
    "from sklearn.model_selection import cross_val_score, KFold, cross_validate\n",
    "\n",
    "\n",
    "# Setting stratified kfold upon the continuous target for future use\n",
    "kfolds = 5\n",
    "# Setting kfold for future use\n",
    "kf = KFold(kfolds, random_state=42, shuffle=True)\n",
    "\n",
    "\n",
    "# set a hideout fold \n",
    "\n",
    "y = df_train_transformed['target']\n",
    "X_train, X_hideout, y_train, y_hideout = train_test_split(df_train_transformed, y, test_size=0.3, random_state=42, shuffle=True)\n",
    "\n",
    "X_train = X_train.drop(['target'], axis=1, errors='ignore')\n",
    "X_hideout = X_hideout.drop(['target'], axis=1, errors='ignore')\n",
    "\n",
    "def print_lightgbm_feature_importance(X, y, estimator):\n",
    "    #Print Feature Importance:\n",
    "    estimator.fit(X, y)\n",
    "    predictors = X.columns\n",
    "\n",
    "    feat_imp = pd.Series(estimator.feature_importances_, predictors).sort_values(ascending=False)\n",
    "    feat_imp.nlargest(30).plot(kind='barh', title='Feature Importances', figsize=(8,10))\n",
    "    plt.ylabel('Feature Importance Score')\n",
    "    df = feat_imp.to_frame().reset_index()\n",
    "    df = df.rename(columns={'index': 'predictor', 0: \"fi_score\"})\n",
    "    return df\n",
    "\n",
    "\n",
    "def model_check(X, y, estimator, model_name, model_description, kfs, is_y_log_transformed=False):\n",
    "    model_table = pd.DataFrame()\n",
    "    \n",
    "    train_rmse = []\n",
    "    valid_rmse = []\n",
    "    hideout_rmse = []\n",
    "\n",
    "    fitting_start_time = dt.datetime.now()\n",
    "    for i, (train_index, test_index) in enumerate(kfs.split(X)):\n",
    "        # Create data for this fold\n",
    "        y_train, y_valid = y.iloc[train_index].copy(), y.iloc[test_index]\n",
    "        X_train, X_valid = X.iloc[train_index, :].copy(), X.iloc[test_index, :].copy()\n",
    "        \n",
    "        rmse = 0.0\n",
    "        \n",
    "        fit_model = model.fit(X_train, y_train)\n",
    "        \n",
    "        pred = model.predict(X_train)\n",
    "        if is_y_log_transformed:\n",
    "            # reverse Y to original scale\n",
    "            y_train = np.exp(y_train) - 1\n",
    "            pred = np.exp(pred) - 1\n",
    "        rmse = RMSLE(y_train, pred)\n",
    "        print('RMSLE Regressor, training set, fold ', i, ': ', rmse)\n",
    "        train_rmse.append(rmse)\n",
    "        \n",
    "        pred = model.predict(X_valid)\n",
    "        if is_y_log_transformed:\n",
    "            # reverse Y to original scale\n",
    "            y_valid = np.exp(y_valid) - 1\n",
    "            pred = np.exp(pred) - 1\n",
    "        rmse = RMSLE(y_valid, pred)\n",
    "        print('RMSLE Regressor, validation set, fold ', i, ': ', rmse)\n",
    "        valid_rmse.append(rmse)\n",
    "        \n",
    "        pred_hideout = model.predict(X_hideout)\n",
    "        if is_y_log_transformed:\n",
    "            # reverse Y to original scale\n",
    "            y_hideout_unscaled = np.exp(y_hideout) - 1\n",
    "            pred_hideout = np.exp(pred_hideout) - 1\n",
    "            rmse = RMSLE(y_hideout_unscaled, pred_hideout)\n",
    "        else:\n",
    "            rmse = RMSLE(y_hideout, pred_hideout)\n",
    "        print('RMSLE Regressor, hideout set, fold ', i, ': ', rmse)\n",
    "        hideout_rmse.append(rmse)\n",
    "    \n",
    "    fitting_end_time = dt.datetime.now()\n",
    "    fit_time = fitting_end_time - fitting_start_time\n",
    "    \n",
    "    train_rmse = np.array(train_rmse)\n",
    "    valid_rmse = np.array(valid_rmse)\n",
    "    hideout_rmse = np.array(hideout_rmse)\n",
    "        \n",
    "    train_rmse = round(np.mean(train_rmse, axis=0), 4)\n",
    "    val_rmse = round(np.mean(valid_rmse, axis=0), 4)\n",
    "    test_rmse = round(np.mean(hideout_rmse, axis=0), 4)\n",
    "    test_std = round(np.std(hideout_rmse, axis=0), 4)\n",
    "\n",
    "    attributes = {\n",
    "        'model_name': model_name,\n",
    "        'train_rmse': train_rmse,\n",
    "        'valid_rmse': val_rmse,\n",
    "        'test_rmse': test_rmse,\n",
    "        'test_rmse_std': test_std,\n",
    "        'fit_time': fit_time,\n",
    "        'description': model_description,\n",
    "    }\n",
    "    \n",
    "    model_table = pd.DataFrame(data=[attributes])\n",
    "    return model_table"
   ]
  },
  {
   "cell_type": "code",
   "execution_count": 9,
   "metadata": {},
   "outputs": [],
   "source": [
    "# initial not tuned model\n",
    "model = lgb.LGBMRegressor(\n",
    "    objective='regression',\n",
    "    metric='rmse',\n",
    "    num_leaves=50, \n",
    "    max_depth=-1, \n",
    "    random_state=314, \n",
    "    silent=True,  \n",
    "    n_jobs=4, \n",
    "    n_estimators=100,\n",
    "    colsample_bytree=0.8,\n",
    "    subsample=0.8,\n",
    "    learning_rate=0.1)"
   ]
  },
  {
   "cell_type": "code",
   "execution_count": 10,
   "metadata": {},
   "outputs": [
    {
     "name": "stdout",
     "output_type": "stream",
     "text": [
      "RMSLE Regressor, training set, fold  0 :  0.8251274113765356\n",
      "RMSLE Regressor, validation set, fold  0 :  0.8472485494826664\n",
      "RMSLE Regressor, hideout set, fold  0 :  0.8476391112059873\n",
      "RMSLE Regressor, training set, fold  1 :  0.825252952410935\n",
      "RMSLE Regressor, validation set, fold  1 :  0.8457247417775715\n",
      "RMSLE Regressor, hideout set, fold  1 :  0.8476516846486996\n",
      "RMSLE Regressor, training set, fold  2 :  0.8254631071819676\n",
      "RMSLE Regressor, validation set, fold  2 :  0.8448369556979022\n",
      "RMSLE Regressor, hideout set, fold  2 :  0.8471795323784472\n",
      "RMSLE Regressor, training set, fold  3 :  0.8250541893362834\n",
      "RMSLE Regressor, validation set, fold  3 :  0.8480480237037447\n",
      "RMSLE Regressor, hideout set, fold  3 :  0.8476785731745672\n",
      "RMSLE Regressor, training set, fold  4 :  0.825190157295963\n",
      "RMSLE Regressor, validation set, fold  4 :  0.8464687834623479\n",
      "RMSLE Regressor, hideout set, fold  4 :  0.8475358941737566\n"
     ]
    },
    {
     "data": {
      "text/html": [
       "<div>\n",
       "<style scoped>\n",
       "    .dataframe tbody tr th:only-of-type {\n",
       "        vertical-align: middle;\n",
       "    }\n",
       "\n",
       "    .dataframe tbody tr th {\n",
       "        vertical-align: top;\n",
       "    }\n",
       "\n",
       "    .dataframe thead th {\n",
       "        text-align: right;\n",
       "    }\n",
       "</style>\n",
       "<table border=\"1\" class=\"dataframe\">\n",
       "  <thead>\n",
       "    <tr style=\"text-align: right;\">\n",
       "      <th></th>\n",
       "      <th>model_name</th>\n",
       "      <th>train_rmse</th>\n",
       "      <th>valid_rmse</th>\n",
       "      <th>test_rmse</th>\n",
       "      <th>test_rmse_std</th>\n",
       "      <th>fit_time</th>\n",
       "      <th>description</th>\n",
       "    </tr>\n",
       "  </thead>\n",
       "  <tbody>\n",
       "    <tr>\n",
       "      <th>0</th>\n",
       "      <td>Initial model: OHE+skewness correction</td>\n",
       "      <td>0.8252</td>\n",
       "      <td>0.8465</td>\n",
       "      <td>0.8475</td>\n",
       "      <td>0.0002</td>\n",
       "      <td>0 days 00:00:14.129873</td>\n",
       "      <td>Initial baseline - OHE+log transform</td>\n",
       "    </tr>\n",
       "  </tbody>\n",
       "</table>\n",
       "</div>"
      ],
      "text/plain": [
       "                               model_name  train_rmse  valid_rmse  test_rmse  \\\n",
       "0  Initial model: OHE+skewness correction      0.8252      0.8465     0.8475   \n",
       "\n",
       "   test_rmse_std               fit_time                           description  \n",
       "0         0.0002 0 days 00:00:14.129873  Initial baseline - OHE+log transform  "
      ]
     },
     "metadata": {},
     "output_type": "display_data"
    }
   ],
   "source": [
    "# fit the baseline model with the training data\n",
    "results_df = model_check(X_train, y_train, model, \n",
    "                         \"Initial model: OHE+skewness correction\", \n",
    "                         \"Initial baseline - OHE+log transform\", kf)\n",
    "display(results_df.head())"
   ]
  },
  {
   "cell_type": "code",
   "execution_count": 11,
   "metadata": {},
   "outputs": [
    {
     "data": {
      "image/png": "[encoded data removed]",
      "text/plain": [
       "<Figure size 576x720 with 1 Axes>"
      ]
     },
     "metadata": {
      "needs_background": "light"
     },
     "output_type": "display_data"
    }
   ],
   "source": [
    "# output the feature importance of the baseline model\n",
    "feat_imp = print_lightgbm_feature_importance(X_hideout, y_hideout, model)"
   ]
  },
  {
   "cell_type": "code",
   "execution_count": 12,
   "metadata": {},
   "outputs": [],
   "source": [
    "# do prediction on the test set, using the best model trained above\n",
    "best_model = lgb.LGBMRegressor(\n",
    "            objective='regression',\n",
    "            metric='rmse',\n",
    "            num_leaves=2000, \n",
    "            min_child_samples=1600, \n",
    "            min_child_weights=0.5,\n",
    "            reg_alpha=0.01,\n",
    "            max_depth=-1, \n",
    "            random_state=314, \n",
    "            silent=False, \n",
    "            n_jobs=4, \n",
    "            colsample_bytree=0.7,\n",
    "            subsample=0.7,\n",
    "            n_estimators=3600,\n",
    "            learning_rate=0.0042)\n"
   ]
  },
  {
   "cell_type": "code",
   "execution_count": 13,
   "metadata": {},
   "outputs": [
    {
     "name": "stdout",
     "output_type": "stream",
     "text": [
      "RMSLE Regressor, training set, fold  0 :  0.8251274113765356\n",
      "RMSLE Regressor, validation set, fold  0 :  0.8472485494826664\n",
      "RMSLE Regressor, hideout set, fold  0 :  0.8476391112059873\n",
      "RMSLE Regressor, training set, fold  1 :  0.825252952410935\n",
      "RMSLE Regressor, validation set, fold  1 :  0.8457247417775715\n",
      "RMSLE Regressor, hideout set, fold  1 :  0.8476516846486996\n",
      "RMSLE Regressor, training set, fold  2 :  0.8254631071819676\n",
      "RMSLE Regressor, validation set, fold  2 :  0.8448369556979022\n",
      "RMSLE Regressor, hideout set, fold  2 :  0.8471795323784472\n",
      "RMSLE Regressor, training set, fold  3 :  0.8250541893362834\n",
      "RMSLE Regressor, validation set, fold  3 :  0.8480480237037447\n",
      "RMSLE Regressor, hideout set, fold  3 :  0.8476785731745672\n",
      "RMSLE Regressor, training set, fold  4 :  0.825190157295963\n",
      "RMSLE Regressor, validation set, fold  4 :  0.8464687834623479\n",
      "RMSLE Regressor, hideout set, fold  4 :  0.8475358941737566\n"
     ]
    },
    {
     "data": {
      "text/html": [
       "<div>\n",
       "<style scoped>\n",
       "    .dataframe tbody tr th:only-of-type {\n",
       "        vertical-align: middle;\n",
       "    }\n",
       "\n",
       "    .dataframe tbody tr th {\n",
       "        vertical-align: top;\n",
       "    }\n",
       "\n",
       "    .dataframe thead th {\n",
       "        text-align: right;\n",
       "    }\n",
       "</style>\n",
       "<table border=\"1\" class=\"dataframe\">\n",
       "  <thead>\n",
       "    <tr style=\"text-align: right;\">\n",
       "      <th></th>\n",
       "      <th>model_name</th>\n",
       "      <th>train_rmse</th>\n",
       "      <th>valid_rmse</th>\n",
       "      <th>test_rmse</th>\n",
       "      <th>test_rmse_std</th>\n",
       "      <th>fit_time</th>\n",
       "      <th>description</th>\n",
       "    </tr>\n",
       "  </thead>\n",
       "  <tbody>\n",
       "    <tr>\n",
       "      <th>0</th>\n",
       "      <td>Best model pre-trained</td>\n",
       "      <td>0.8252</td>\n",
       "      <td>0.8465</td>\n",
       "      <td>0.8475</td>\n",
       "      <td>0.0002</td>\n",
       "      <td>0 days 00:00:13.036724</td>\n",
       "      <td>Best model, OHE+log transform</td>\n",
       "    </tr>\n",
       "  </tbody>\n",
       "</table>\n",
       "</div>"
      ],
      "text/plain": [
       "               model_name  train_rmse  valid_rmse  test_rmse  test_rmse_std  \\\n",
       "0  Best model pre-trained      0.8252      0.8465     0.8475         0.0002   \n",
       "\n",
       "                fit_time                    description  \n",
       "0 0 days 00:00:13.036724  Best model, OHE+log transform  "
      ]
     },
     "metadata": {},
     "output_type": "display_data"
    }
   ],
   "source": []
  },
  {
   "cell_type": "code",
   "execution_count": 22,
   "metadata": {},
   "outputs": [
    {
     "name": "stdout",
     "output_type": "stream",
     "text": [
      "RMSLE Regressor, training set, fold  0 :  0.8309763650565374\n",
      "RMSLE Regressor, validation set, fold  0 :  0.8457148769565134\n",
      "RMSLE Regressor, hideout set, fold  0 :  0.8418289529724647\n",
      "RMSLE Regressor, training set, fold  1 :  0.8303528664540646\n",
      "RMSLE Regressor, validation set, fold  1 :  0.847384453489216\n",
      "RMSLE Regressor, hideout set, fold  1 :  0.8364756781918697\n",
      "RMSLE Regressor, training set, fold  2 :  0.8307361517374031\n",
      "RMSLE Regressor, validation set, fold  2 :  0.8462803433603213\n",
      "RMSLE Regressor, hideout set, fold  2 :  0.831599388998965\n",
      "RMSLE Regressor, training set, fold  3 :  0.8313050917266993\n",
      "RMSLE Regressor, validation set, fold  3 :  0.8451936737344615\n",
      "RMSLE Regressor, hideout set, fold  3 :  0.8317669583405563\n",
      "RMSLE Regressor, training set, fold  4 :  0.8312372369979826\n",
      "RMSLE Regressor, validation set, fold  4 :  0.8446301683112235\n",
      "RMSLE Regressor, hideout set, fold  4 :  0.8316164726143358\n"
     ]
    },
    {
     "data": {
      "text/html": [
       "<div>\n",
       "<style scoped>\n",
       "    .dataframe tbody tr th:only-of-type {\n",
       "        vertical-align: middle;\n",
       "    }\n",
       "\n",
       "    .dataframe tbody tr th {\n",
       "        vertical-align: top;\n",
       "    }\n",
       "\n",
       "    .dataframe thead th {\n",
       "        text-align: right;\n",
       "    }\n",
       "</style>\n",
       "<table border=\"1\" class=\"dataframe\">\n",
       "  <thead>\n",
       "    <tr style=\"text-align: right;\">\n",
       "      <th></th>\n",
       "      <th>model_name</th>\n",
       "      <th>train_rmse</th>\n",
       "      <th>valid_rmse</th>\n",
       "      <th>test_rmse</th>\n",
       "      <th>test_rmse_std</th>\n",
       "      <th>fit_time</th>\n",
       "      <th>description</th>\n",
       "    </tr>\n",
       "  </thead>\n",
       "  <tbody>\n",
       "    <tr>\n",
       "      <th>0</th>\n",
       "      <td>Best model pre-trained</td>\n",
       "      <td>0.8309</td>\n",
       "      <td>0.8458</td>\n",
       "      <td>0.8347</td>\n",
       "      <td>0.004</td>\n",
       "      <td>0 days 00:00:17.454731</td>\n",
       "      <td>Best model, OHE+log transform</td>\n",
       "    </tr>\n",
       "  </tbody>\n",
       "</table>\n",
       "</div>"
      ],
      "text/plain": [
       "               model_name  train_rmse  valid_rmse  test_rmse  test_rmse_std  \\\n",
       "0  Best model pre-trained      0.8309      0.8458     0.8347          0.004   \n",
       "\n",
       "                fit_time                    description  \n",
       "0 0 days 00:00:17.454731  Best model, OHE+log transform  "
      ]
     },
     "metadata": {},
     "output_type": "display_data"
    }
   ],
   "source": [
    "# fit the best model on the full training set\n",
    "y = df_train_transformed['target']\n",
    "X_train = df_train_transformed.drop(['target'], axis=1, errors='ignore')\n",
    "\n",
    "# fit the baseline model with the training data\n",
    "results_df = model_check(X_train, y, best_model, \n",
    "                         \"Best model pre-trained\", \n",
    "                         \"Best model, OHE+log transform\", kf)\n",
    "display(results_df.head())\n"
   ]
  },
  {
   "cell_type": "code",
   "execution_count": null,
   "metadata": {},
   "outputs": [],
   "source": [
    "best_model.fit(X_train, y)"
   ]
  },
  {
   "cell_type": "code",
   "execution_count": 15,
   "metadata": {},
   "outputs": [],
   "source": [
    "# preprocess the test set\n",
    "df_test['target'] = 0 # for the compatibility with the encoder\n",
    "df_test_transformed = encoder.transform(df_test)\n",
    "df_test_transformed = df_test_transformed.drop(['target'], axis=1, errors='ignore')\n",
    "df_test_transformed = log_transform_numeric_cols(df_test_transformed)\n"
   ]
  },
  {
   "cell_type": "code",
   "execution_count": 16,
   "metadata": {},
   "outputs": [],
   "source": [
    "# predict on the test set\n",
    "preds = best_model.predict(df_test_transformed)"
   ]
  },
  {
   "cell_type": "code",
   "execution_count": 17,
   "metadata": {},
   "outputs": [
    {
     "data": {
      "image/png": "[encoded data removed]",
      "text/plain": [
       "<Figure size 576x720 with 1 Axes>"
      ]
     },
     "metadata": {
      "needs_background": "light"
     },
     "output_type": "display_data"
    }
   ],
   "source": [
    "# output the feature importance of the best model\n",
    "feat_imp = print_lightgbm_feature_importance(X_train, y, best_model)"
   ]
  },
  {
   "cell_type": "code",
   "execution_count": 18,
   "metadata": {},
   "outputs": [],
   "source": [
    "# submit prediction\n",
    "subm['target'] = preds\n",
    "subm.to_csv(\"best_own_lightgbm2.csv\", index=False)\n",
    "\n",
    "# public lb score 0.87658"
   ]
  },
  {
   "cell_type": "code",
   "execution_count": 23,
   "metadata": {},
   "outputs": [],
   "source": [
    "# try the model from https://www.kaggle.com/kenkpixdev/ensemble-lgb-xgb-with-hyperopt\n",
    "\n",
    "# do prediction on the test set, using the best model trained above\n",
    "tp_model = lgb.LGBMRegressor(\n",
    "            objective='regression',\n",
    "            metric='rmse',\n",
    "            num_leaves=36, \n",
    "            min_child_samples=500, \n",
    "            min_split_gain=0.2579555416739361,\n",
    "            reg_alpha=0.33867231210286647,\n",
    "            reg_lambda=42.071411120949854,\n",
    "            max_depth=21, \n",
    "            random_state=314, \n",
    "            silent=False, \n",
    "            n_jobs=4, \n",
    "            colsample_bytree=0.6203517996970486,\n",
    "            subsample=0.2595537456780356,\n",
    "            n_estimators=5000,\n",
    "            learning_rate=0.049019854828962754)"
   ]
  },
  {
   "cell_type": "code",
   "execution_count": 24,
   "metadata": {},
   "outputs": [
    {
     "name": "stdout",
     "output_type": "stream",
     "text": [
      "RMSLE Regressor, training set, fold  0 :  0.8309763650565374\n",
      "RMSLE Regressor, validation set, fold  0 :  0.8457148769565134\n",
      "RMSLE Regressor, hideout set, fold  0 :  0.8418289529724647\n",
      "RMSLE Regressor, training set, fold  1 :  0.8303528664540646\n",
      "RMSLE Regressor, validation set, fold  1 :  0.847384453489216\n",
      "RMSLE Regressor, hideout set, fold  1 :  0.8364756781918697\n",
      "RMSLE Regressor, training set, fold  2 :  0.8307361517374031\n",
      "RMSLE Regressor, validation set, fold  2 :  0.8462803433603213\n",
      "RMSLE Regressor, hideout set, fold  2 :  0.831599388998965\n",
      "RMSLE Regressor, training set, fold  3 :  0.8313050917266993\n",
      "RMSLE Regressor, validation set, fold  3 :  0.8451936737344615\n",
      "RMSLE Regressor, hideout set, fold  3 :  0.8317669583405563\n",
      "RMSLE Regressor, training set, fold  4 :  0.8312372369979826\n",
      "RMSLE Regressor, validation set, fold  4 :  0.8446301683112235\n",
      "RMSLE Regressor, hideout set, fold  4 :  0.8316164726143358\n"
     ]
    },
    {
     "data": {
      "text/html": [
       "<div>\n",
       "<style scoped>\n",
       "    .dataframe tbody tr th:only-of-type {\n",
       "        vertical-align: middle;\n",
       "    }\n",
       "\n",
       "    .dataframe tbody tr th {\n",
       "        vertical-align: top;\n",
       "    }\n",
       "\n",
       "    .dataframe thead th {\n",
       "        text-align: right;\n",
       "    }\n",
       "</style>\n",
       "<table border=\"1\" class=\"dataframe\">\n",
       "  <thead>\n",
       "    <tr style=\"text-align: right;\">\n",
       "      <th></th>\n",
       "      <th>model_name</th>\n",
       "      <th>train_rmse</th>\n",
       "      <th>valid_rmse</th>\n",
       "      <th>test_rmse</th>\n",
       "      <th>test_rmse_std</th>\n",
       "      <th>fit_time</th>\n",
       "      <th>description</th>\n",
       "    </tr>\n",
       "  </thead>\n",
       "  <tbody>\n",
       "    <tr>\n",
       "      <th>0</th>\n",
       "      <td>Best model pre-trained</td>\n",
       "      <td>0.8309</td>\n",
       "      <td>0.8458</td>\n",
       "      <td>0.8347</td>\n",
       "      <td>0.004</td>\n",
       "      <td>0 days 00:00:17.613256</td>\n",
       "      <td>Best model, OHE+log transform</td>\n",
       "    </tr>\n",
       "  </tbody>\n",
       "</table>\n",
       "</div>"
      ],
      "text/plain": [
       "               model_name  train_rmse  valid_rmse  test_rmse  test_rmse_std  \\\n",
       "0  Best model pre-trained      0.8309      0.8458     0.8347          0.004   \n",
       "\n",
       "                fit_time                    description  \n",
       "0 0 days 00:00:17.613256  Best model, OHE+log transform  "
      ]
     },
     "metadata": {},
     "output_type": "display_data"
    }
   ],
   "source": [
    "# fit the baseline model with the training data\n",
    "results_df = model_check(X_train, y, tp_model, \n",
    "                         \"Best model pre-trained\", \n",
    "                         \"Best model, OHE+log transform\", kf)\n",
    "display(results_df.head())"
   ]
  },
  {
   "cell_type": "code",
   "execution_count": 25,
   "metadata": {},
   "outputs": [],
   "source": [
    "# fit the model, predict on the test set\n",
    "tp_model.fit(X_train, y)\n",
    "preds = tp_model.predict(df_test_transformed)"
   ]
  },
  {
   "cell_type": "code",
   "execution_count": 26,
   "metadata": {},
   "outputs": [
    {
     "data": {
      "image/png": "[encoded data removed]",
      "text/plain": [
       "<Figure size 576x720 with 1 Axes>"
      ]
     },
     "metadata": {
      "needs_background": "light"
     },
     "output_type": "display_data"
    }
   ],
   "source": [
    "# output the feature importance of the best model\n",
    "feat_imp = print_lightgbm_feature_importance(X_train, y, tp_model)"
   ]
  },
  {
   "cell_type": "code",
   "execution_count": 27,
   "metadata": {},
   "outputs": [],
   "source": [
    "# submit prediction\n",
    "subm['target'] = preds\n",
    "subm.to_csv(\"tp_lightgbm1.csv\", index=False)"
   ]
  },
  {
   "cell_type": "code",
   "execution_count": 20,
   "metadata": {},
   "outputs": [
    {
     "name": "stdout",
     "output_type": "stream",
     "text": [
      "We are done. That is all, folks!\n",
      "Finished at  2021-02-13 19:33:54.949825\n",
      "Elapsed time:  0:04:22.804902\n"
     ]
    }
   ],
   "source": [
    "print('We are done. That is all, folks!')\n",
    "finish_time = dt.datetime.now()\n",
    "print(\"Finished at \", finish_time)\n",
    "elapsed = finish_time - start_time\n",
    "print(\"Elapsed time: \", elapsed)"
   ]
  }
 ],
 "metadata": {
  "kernelspec": {
   "display_name": "Python 3",
   "language": "python",
   "name": "python3"
  },
  "language_info": {
   "codemirror_mode": {
    "name": "ipython",
    "version": 3
   },
   "file_extension": ".py",
   "mimetype": "text/x-python",
   "name": "python",
   "nbconvert_exporter": "python",
   "pygments_lexer": "ipython3",
   "version": "3.7.0"
  }
 },
 "nbformat": 4,
 "nbformat_minor": 2
}
