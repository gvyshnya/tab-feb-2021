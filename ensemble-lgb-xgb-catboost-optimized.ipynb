{
 "cells": [
  {
   "cell_type": "markdown",
   "metadata": {
    "papermill": {
     "duration": 0.007788,
     "end_time": "2021-02-20T11:10:11.865750",
     "exception": false,
     "start_time": "2021-02-20T11:10:11.857962",
     "status": "completed"
    },
    "tags": []
   },
   "source": [
    "# Overview\n",
    "\n",
    "The purpose of this notebook is to predict the target by an Ensemble model composed of tree individual models\n",
    "\n",
    "- lightgbm\n",
    "- xgboost\n",
    "- catboost\n",
    "\n",
    "Feature Engineering followed basic practices that proved to work for GBM-style models for this competition\n",
    "\n",
    "- label encoding the cat variables\n",
    "- standard scaling to numeric variables\n",
    "\n",
    "Params for *xgboost* and *catboost* have been discovered via hyperparam search, using *hyperopt*. Params for *lightgbm* have been reused from https://www.kaggle.com/hiro5299834/tps-feb-2021-with-single-lgbm-tuned (they appeared to work better vs. the set of parameters I discovered in *hyperopt*-based search).\n",
    "\n",
    "Weight of lightgbm prediction was set to be a little higher then catboost and xgboost.\n",
    "\n",
    "The well-thought software design of the Ensembling class was inspired by https://www.kaggle.com/kenkpixdev/ensemble-lgb-xgb-with-hyperopt"
   ]
  },
  {
   "cell_type": "code",
   "execution_count": 1,
   "metadata": {
    "_cell_guid": "b1076dfc-b9ad-4769-8c92-a6c4dae69d19",
    "_uuid": "8f2839f25d086af736a60e9eeb907d3b93b6e0e5",
    "execution": {
     "iopub.execute_input": "2021-02-20T11:10:11.885948Z",
     "iopub.status.busy": "2021-02-20T11:10:11.885266Z",
     "iopub.status.idle": "2021-02-20T11:10:17.260043Z",
     "shell.execute_reply": "2021-02-20T11:10:17.259001Z"
    },
    "papermill": {
     "duration": 5.387421,
     "end_time": "2021-02-20T11:10:17.260250",
     "exception": false,
     "start_time": "2021-02-20T11:10:11.872829",
     "status": "completed"
    },
    "tags": []
   },
   "outputs": [
    {
     "data": {
      "text/html": [
       "<style type='text/css'>\n",
       ".datatable table.frame { margin-bottom: 0; }\n",
       ".datatable table.frame thead { border-bottom: none; }\n",
       ".datatable table.frame tr.coltypes td {  color: #FFFFFF;  line-height: 6px;  padding: 0 0.5em;}\n",
       ".datatable .bool    { background: #DDDD99; }\n",
       ".datatable .object  { background: #565656; }\n",
       ".datatable .int     { background: #5D9E5D; }\n",
       ".datatable .float   { background: #4040CC; }\n",
       ".datatable .str     { background: #CC4040; }\n",
       ".datatable .row_index {  background: var(--jp-border-color3);  border-right: 1px solid var(--jp-border-color0);  color: var(--jp-ui-font-color3);  font-size: 9px;}\n",
       ".datatable .frame tr.coltypes .row_index {  background: var(--jp-border-color0);}\n",
       ".datatable th:nth-child(2) { padding-left: 12px; }\n",
       ".datatable .hellipsis {  color: var(--jp-cell-editor-border-color);}\n",
       ".datatable .vellipsis {  background: var(--jp-layout-color0);  color: var(--jp-cell-editor-border-color);}\n",
       ".datatable .na {  color: var(--jp-cell-editor-border-color);  font-size: 80%;}\n",
       ".datatable .footer { font-size: 9px; }\n",
       ".datatable .frame_dimensions {  background: var(--jp-border-color3);  border-top: 1px solid var(--jp-border-color0);  color: var(--jp-ui-font-color3);  display: inline-block;  opacity: 0.6;  padding: 1px 10px 1px 5px;}\n",
       "</style>\n"
      ],
      "text/plain": [
       "<IPython.core.display.HTML object>"
      ]
     },
     "metadata": {},
     "output_type": "display_data"
    }
   ],
   "source": [
    "import pandas as pd\n",
    "import numpy as np\n",
    "import time\n",
    "import datetime as dt\n",
    "from typing import Tuple, List, Dict\n",
    "\n",
    "from hyperopt import STATUS_OK, Trials, fmin, hp, tpe\n",
    "from hyperopt.pyll.base import scope\n",
    "from xgboost import XGBRegressor\n",
    "from lightgbm import LGBMRegressor\n",
    "from catboost import CatBoostRegressor\n",
    "from sklearn.metrics import mean_squared_error\n",
    "from sklearn.model_selection import train_test_split, KFold\n",
    "from sklearn.preprocessing import StandardScaler, LabelEncoder"
   ]
  },
  {
   "cell_type": "code",
   "execution_count": 2,
   "metadata": {
    "execution": {
     "iopub.execute_input": "2021-02-20T11:10:17.279723Z",
     "iopub.status.busy": "2021-02-20T11:10:17.278985Z",
     "iopub.status.idle": "2021-02-20T11:10:17.284786Z",
     "shell.execute_reply": "2021-02-20T11:10:17.285376Z"
    },
    "papermill": {
     "duration": 0.01739,
     "end_time": "2021-02-20T11:10:17.285570",
     "exception": false,
     "start_time": "2021-02-20T11:10:17.268180",
     "status": "completed"
    },
    "tags": []
   },
   "outputs": [
    {
     "name": "stdout",
     "output_type": "stream",
     "text": [
      "Started at  2021-02-20 11:10:17.277475\n"
     ]
    }
   ],
   "source": [
    "# main flow\n",
    "start_time = dt.datetime.now()\n",
    "print(\"Started at \", start_time)"
   ]
  },
  {
   "cell_type": "code",
   "execution_count": 3,
   "metadata": {
    "execution": {
     "iopub.execute_input": "2021-02-20T11:10:17.318390Z",
     "iopub.status.busy": "2021-02-20T11:10:17.316994Z",
     "iopub.status.idle": "2021-02-20T11:10:17.327060Z",
     "shell.execute_reply": "2021-02-20T11:10:17.327629Z"
    },
    "papermill": {
     "duration": 0.026982,
     "end_time": "2021-02-20T11:10:17.327765",
     "exception": false,
     "start_time": "2021-02-20T11:10:17.300783",
     "status": "completed"
    },
    "tags": []
   },
   "outputs": [],
   "source": [
    "# read data\n",
    "in_kaggle = True\n",
    "\n",
    "\n",
    "def get_data_file_path(is_in_kaggle: bool) -> Tuple[str, str, str]:\n",
    "    train_path = ''\n",
    "    test_path = ''\n",
    "    sample_submission_path = ''\n",
    "\n",
    "    if is_in_kaggle:\n",
    "        # running in Kaggle, inside the competition\n",
    "        train_path = '../input/tabular-playground-series-feb-2021/train.csv'\n",
    "        test_path = '../input/tabular-playground-series-feb-2021/test.csv'\n",
    "        sample_submission_path = '../input/tabular-playground-series-feb-2021/sample_submission.csv'\n",
    "    else:\n",
    "        # running locally\n",
    "        train_path = 'data/train.csv'\n",
    "        test_path = 'data/test.csv'\n",
    "        sample_submission_path = 'data/sample_submission.csv'\n",
    "\n",
    "    return train_path, test_path, sample_submission_path\n"
   ]
  },
  {
   "cell_type": "code",
   "execution_count": 4,
   "metadata": {
    "execution": {
     "iopub.execute_input": "2021-02-20T11:10:17.363552Z",
     "iopub.status.busy": "2021-02-20T11:10:17.362757Z",
     "iopub.status.idle": "2021-02-20T11:10:20.999428Z",
     "shell.execute_reply": "2021-02-20T11:10:21.000183Z"
    },
    "papermill": {
     "duration": 3.660898,
     "end_time": "2021-02-20T11:10:21.000339",
     "exception": false,
     "start_time": "2021-02-20T11:10:17.339441",
     "status": "completed"
    },
    "tags": []
   },
   "outputs": [
    {
     "name": "stdout",
     "output_type": "stream",
     "text": [
      "CPU times: user 1.86 s, sys: 140 ms, total: 2 s\n",
      "Wall time: 3.64 s\n"
     ]
    }
   ],
   "source": [
    "%%time\n",
    "# get the training set and labels\n",
    "train_set_path, test_set_path, sample_subm_path = get_data_file_path(in_kaggle)\n",
    "\n",
    "train = pd.read_csv(train_set_path)\n",
    "test = pd.read_csv(test_set_path)\n",
    "target = train.target\n",
    "\n",
    "subm = pd.read_csv(sample_subm_path)"
   ]
  },
  {
   "cell_type": "code",
   "execution_count": 5,
   "metadata": {
    "execution": {
     "iopub.execute_input": "2021-02-20T11:10:21.033780Z",
     "iopub.status.busy": "2021-02-20T11:10:21.033060Z",
     "iopub.status.idle": "2021-02-20T11:10:21.047263Z",
     "shell.execute_reply": "2021-02-20T11:10:21.047633Z"
    },
    "papermill": {
     "duration": 0.03909,
     "end_time": "2021-02-20T11:10:21.047760",
     "exception": false,
     "start_time": "2021-02-20T11:10:21.008670",
     "status": "completed"
    },
    "tags": []
   },
   "outputs": [
    {
     "data": {
      "text/html": [
       "<div>\n",
       "<style scoped>\n",
       "    .dataframe tbody tr th:only-of-type {\n",
       "        vertical-align: middle;\n",
       "    }\n",
       "\n",
       "    .dataframe tbody tr th {\n",
       "        vertical-align: top;\n",
       "    }\n",
       "\n",
       "    .dataframe thead th {\n",
       "        text-align: right;\n",
       "    }\n",
       "</style>\n",
       "<table border=\"1\" class=\"dataframe\">\n",
       "  <thead>\n",
       "    <tr style=\"text-align: right;\">\n",
       "      <th></th>\n",
       "      <th>id</th>\n",
       "      <th>cat0</th>\n",
       "      <th>cat1</th>\n",
       "      <th>cat2</th>\n",
       "      <th>cat3</th>\n",
       "      <th>cat4</th>\n",
       "      <th>cat5</th>\n",
       "      <th>cat6</th>\n",
       "      <th>cat7</th>\n",
       "      <th>cat8</th>\n",
       "      <th>...</th>\n",
       "      <th>cont5</th>\n",
       "      <th>cont6</th>\n",
       "      <th>cont7</th>\n",
       "      <th>cont8</th>\n",
       "      <th>cont9</th>\n",
       "      <th>cont10</th>\n",
       "      <th>cont11</th>\n",
       "      <th>cont12</th>\n",
       "      <th>cont13</th>\n",
       "      <th>target</th>\n",
       "    </tr>\n",
       "  </thead>\n",
       "  <tbody>\n",
       "    <tr>\n",
       "      <th>0</th>\n",
       "      <td>1</td>\n",
       "      <td>A</td>\n",
       "      <td>B</td>\n",
       "      <td>A</td>\n",
       "      <td>A</td>\n",
       "      <td>B</td>\n",
       "      <td>D</td>\n",
       "      <td>A</td>\n",
       "      <td>E</td>\n",
       "      <td>C</td>\n",
       "      <td>...</td>\n",
       "      <td>0.881122</td>\n",
       "      <td>0.421650</td>\n",
       "      <td>0.741413</td>\n",
       "      <td>0.895799</td>\n",
       "      <td>0.802461</td>\n",
       "      <td>0.724417</td>\n",
       "      <td>0.701915</td>\n",
       "      <td>0.877618</td>\n",
       "      <td>0.719903</td>\n",
       "      <td>6.994023</td>\n",
       "    </tr>\n",
       "    <tr>\n",
       "      <th>1</th>\n",
       "      <td>2</td>\n",
       "      <td>B</td>\n",
       "      <td>A</td>\n",
       "      <td>A</td>\n",
       "      <td>A</td>\n",
       "      <td>B</td>\n",
       "      <td>B</td>\n",
       "      <td>A</td>\n",
       "      <td>E</td>\n",
       "      <td>A</td>\n",
       "      <td>...</td>\n",
       "      <td>0.440011</td>\n",
       "      <td>0.346230</td>\n",
       "      <td>0.278495</td>\n",
       "      <td>0.593413</td>\n",
       "      <td>0.546056</td>\n",
       "      <td>0.613252</td>\n",
       "      <td>0.741289</td>\n",
       "      <td>0.326679</td>\n",
       "      <td>0.808464</td>\n",
       "      <td>8.071256</td>\n",
       "    </tr>\n",
       "    <tr>\n",
       "      <th>2</th>\n",
       "      <td>3</td>\n",
       "      <td>A</td>\n",
       "      <td>A</td>\n",
       "      <td>A</td>\n",
       "      <td>C</td>\n",
       "      <td>B</td>\n",
       "      <td>D</td>\n",
       "      <td>A</td>\n",
       "      <td>B</td>\n",
       "      <td>C</td>\n",
       "      <td>...</td>\n",
       "      <td>0.914155</td>\n",
       "      <td>0.369602</td>\n",
       "      <td>0.832564</td>\n",
       "      <td>0.865620</td>\n",
       "      <td>0.825251</td>\n",
       "      <td>0.264104</td>\n",
       "      <td>0.695561</td>\n",
       "      <td>0.869133</td>\n",
       "      <td>0.828352</td>\n",
       "      <td>5.760456</td>\n",
       "    </tr>\n",
       "    <tr>\n",
       "      <th>3</th>\n",
       "      <td>4</td>\n",
       "      <td>A</td>\n",
       "      <td>A</td>\n",
       "      <td>A</td>\n",
       "      <td>C</td>\n",
       "      <td>B</td>\n",
       "      <td>D</td>\n",
       "      <td>A</td>\n",
       "      <td>E</td>\n",
       "      <td>G</td>\n",
       "      <td>...</td>\n",
       "      <td>0.934138</td>\n",
       "      <td>0.578930</td>\n",
       "      <td>0.407313</td>\n",
       "      <td>0.868099</td>\n",
       "      <td>0.794402</td>\n",
       "      <td>0.494269</td>\n",
       "      <td>0.698125</td>\n",
       "      <td>0.809799</td>\n",
       "      <td>0.614766</td>\n",
       "      <td>7.806457</td>\n",
       "    </tr>\n",
       "    <tr>\n",
       "      <th>4</th>\n",
       "      <td>6</td>\n",
       "      <td>A</td>\n",
       "      <td>B</td>\n",
       "      <td>A</td>\n",
       "      <td>A</td>\n",
       "      <td>B</td>\n",
       "      <td>B</td>\n",
       "      <td>A</td>\n",
       "      <td>E</td>\n",
       "      <td>C</td>\n",
       "      <td>...</td>\n",
       "      <td>0.382600</td>\n",
       "      <td>0.705940</td>\n",
       "      <td>0.325193</td>\n",
       "      <td>0.440967</td>\n",
       "      <td>0.462146</td>\n",
       "      <td>0.724447</td>\n",
       "      <td>0.683073</td>\n",
       "      <td>0.343457</td>\n",
       "      <td>0.297743</td>\n",
       "      <td>6.868974</td>\n",
       "    </tr>\n",
       "  </tbody>\n",
       "</table>\n",
       "<p>5 rows × 26 columns</p>\n",
       "</div>"
      ],
      "text/plain": [
       "   id cat0 cat1 cat2 cat3 cat4 cat5 cat6 cat7 cat8  ...     cont5     cont6  \\\n",
       "0   1    A    B    A    A    B    D    A    E    C  ...  0.881122  0.421650   \n",
       "1   2    B    A    A    A    B    B    A    E    A  ...  0.440011  0.346230   \n",
       "2   3    A    A    A    C    B    D    A    B    C  ...  0.914155  0.369602   \n",
       "3   4    A    A    A    C    B    D    A    E    G  ...  0.934138  0.578930   \n",
       "4   6    A    B    A    A    B    B    A    E    C  ...  0.382600  0.705940   \n",
       "\n",
       "      cont7     cont8     cont9    cont10    cont11    cont12    cont13  \\\n",
       "0  0.741413  0.895799  0.802461  0.724417  0.701915  0.877618  0.719903   \n",
       "1  0.278495  0.593413  0.546056  0.613252  0.741289  0.326679  0.808464   \n",
       "2  0.832564  0.865620  0.825251  0.264104  0.695561  0.869133  0.828352   \n",
       "3  0.407313  0.868099  0.794402  0.494269  0.698125  0.809799  0.614766   \n",
       "4  0.325193  0.440967  0.462146  0.724447  0.683073  0.343457  0.297743   \n",
       "\n",
       "     target  \n",
       "0  6.994023  \n",
       "1  8.071256  \n",
       "2  5.760456  \n",
       "3  7.806457  \n",
       "4  6.868974  \n",
       "\n",
       "[5 rows x 26 columns]"
      ]
     },
     "execution_count": 5,
     "metadata": {},
     "output_type": "execute_result"
    }
   ],
   "source": [
    "train.head()"
   ]
  },
  {
   "cell_type": "code",
   "execution_count": 6,
   "metadata": {
    "execution": {
     "iopub.execute_input": "2021-02-20T11:10:21.072969Z",
     "iopub.status.busy": "2021-02-20T11:10:21.071239Z",
     "iopub.status.idle": "2021-02-20T11:10:21.073599Z",
     "shell.execute_reply": "2021-02-20T11:10:21.073983Z"
    },
    "papermill": {
     "duration": 0.0175,
     "end_time": "2021-02-20T11:10:21.074125",
     "exception": false,
     "start_time": "2021-02-20T11:10:21.056625",
     "status": "completed"
    },
    "tags": []
   },
   "outputs": [],
   "source": [
    "def preprocess(df, encoder=None,\n",
    "               scaler=None, cols_to_drop=None,\n",
    "               cols_to_encode=None, cols_to_scale=None):\n",
    "    \"\"\"\n",
    "    Preprocess input data\n",
    "    :param df: DataFrame with data\n",
    "    :param encoder: encoder object with fit_transform method\n",
    "    :param scaler: scaler object with fit_transform method\n",
    "    :param cols_to_drop: columns to be removed\n",
    "    :param cols_to_encode: columns to be encoded\n",
    "    :param cols_to_scale: columns to be scaled\n",
    "    :return: DataFrame\n",
    "    \"\"\"\n",
    "\n",
    "    if encoder:\n",
    "        for col in cols_to_encode:\n",
    "            df[col] = encoder.fit_transform(df[col])\n",
    "\n",
    "    if scaler:\n",
    "        for col in cols_to_scale:\n",
    "            df[col] = scaler.fit_transform(df[col].values.reshape(-1, 1))\n",
    "\n",
    "    if cols_to_drop:\n",
    "        df = df.drop(cols_to_drop, axis=1)\n",
    "\n",
    "    return df"
   ]
  },
  {
   "cell_type": "code",
   "execution_count": 7,
   "metadata": {
    "execution": {
     "iopub.execute_input": "2021-02-20T11:10:21.175463Z",
     "iopub.status.busy": "2021-02-20T11:10:21.174626Z",
     "iopub.status.idle": "2021-02-20T11:10:22.688853Z",
     "shell.execute_reply": "2021-02-20T11:10:22.687810Z"
    },
    "papermill": {
     "duration": 1.605744,
     "end_time": "2021-02-20T11:10:22.688995",
     "exception": false,
     "start_time": "2021-02-20T11:10:21.083251",
     "status": "completed"
    },
    "tags": []
   },
   "outputs": [],
   "source": [
    "cat_cols = ['cat' + str(i) for i in range(10)]\n",
    "cont_cols = ['cont' + str(i) for i in range(14)]\n",
    "\n",
    "train = preprocess(train, encoder=LabelEncoder(), scaler=StandardScaler(),\n",
    "                  cols_to_drop=['id', 'target'], cols_to_encode=cat_cols,\n",
    "                  cols_to_scale=cont_cols)\n",
    "\n",
    "# encoder=LabelEncoder()\n",
    "test = preprocess(test, encoder=LabelEncoder(), scaler=StandardScaler(),\n",
    "                 cols_to_drop=['id'], cols_to_encode=cat_cols,\n",
    "                 cols_to_scale=cont_cols)"
   ]
  },
  {
   "cell_type": "code",
   "execution_count": 8,
   "metadata": {
    "execution": {
     "iopub.execute_input": "2021-02-20T11:10:22.718142Z",
     "iopub.status.busy": "2021-02-20T11:10:22.716403Z",
     "iopub.status.idle": "2021-02-20T11:10:22.718698Z",
     "shell.execute_reply": "2021-02-20T11:10:22.719096Z"
    },
    "papermill": {
     "duration": 0.020056,
     "end_time": "2021-02-20T11:10:22.719243",
     "exception": false,
     "start_time": "2021-02-20T11:10:22.699187",
     "status": "completed"
    },
    "tags": []
   },
   "outputs": [],
   "source": [
    "class EnsembleModel:\n",
    "    def __init__(self, params):\n",
    "        \"\"\"\n",
    "        LGB + XGB + CatBoost model\n",
    "        \"\"\"\n",
    "        self.lgb_params = params['lgb']\n",
    "        self.xgb_params = params['xgb']\n",
    "        self.cat_params = params['cat']\n",
    "\n",
    "        self.lgb_model = LGBMRegressor(**self.lgb_params)\n",
    "        self.xgb_model = XGBRegressor(**self.xgb_params)\n",
    "        self.cat_model = CatBoostRegressor(**self.cat_params)\n",
    "\n",
    "    def fit(self, x, y, *args, **kwargs):\n",
    "        return (self.lgb_model.fit(x, y, *args, **kwargs),\n",
    "                self.xgb_model.fit(x, y, *args, **kwargs),\n",
    "               self.cat_model.fit(x, y, *args, **kwargs))\n",
    "\n",
    "    def predict(self, x, weights=[1.0, 1.0, 1.0]):\n",
    "        \"\"\"\n",
    "        Generate model predictions\n",
    "        :param x: data\n",
    "        :param weights: weights on model prediction, first one is the weight on lgb model\n",
    "        :return: array with predictions\n",
    "        \"\"\"\n",
    "        return (weights[0] * self.lgb_model.predict(x) +\n",
    "                weights[1] * self.xgb_model.predict(x) +\n",
    "                weights[2] * self.cat_model.predict(x)) / 3"
   ]
  },
  {
   "cell_type": "code",
   "execution_count": 9,
   "metadata": {
    "execution": {
     "iopub.execute_input": "2021-02-20T11:10:22.751618Z",
     "iopub.status.busy": "2021-02-20T11:10:22.750674Z",
     "iopub.status.idle": "2021-02-20T12:12:15.078183Z",
     "shell.execute_reply": "2021-02-20T12:12:15.078608Z"
    },
    "papermill": {
     "duration": 3712.350429,
     "end_time": "2021-02-20T12:12:15.078785",
     "exception": false,
     "start_time": "2021-02-20T11:10:22.728356",
     "status": "completed"
    },
    "tags": []
   },
   "outputs": [
    {
     "name": "stdout",
     "output_type": "stream",
     "text": [
      "Fold 1, RMSE: 0.8452680427304071\n",
      "Fold 2, RMSE: 0.838145303777536\n",
      "Fold 3, RMSE: 0.8375768531571243\n",
      "Fold 4, RMSE: 0.844915135015359\n",
      "Fold 5, RMSE: 0.8414464913675375\n",
      "Fold 6, RMSE: 0.8454354409888862\n",
      "Fold 7, RMSE: 0.8423574977211604\n",
      "Fold 8, RMSE: 0.8432141136989376\n",
      "Fold 9, RMSE: 0.8388999483442439\n",
      "Fold 10, RMSE: 0.8442114314166476\n",
      "Mean RMSE:  0.8421470258217839\n",
      "Training complete in 61m 52s\n"
     ]
    }
   ],
   "source": [
    "since = time.time()\n",
    "columns = train.columns\n",
    "\n",
    "# ------------------------------------------------------------------------------\n",
    "# Parameters\n",
    "# ------------------------------------------------------------------------------\n",
    "N_FOLDS = 10\n",
    "N_ESTIMATORS = 30000\n",
    "SEED = 2021\n",
    "BAGGING_SEED = 48\n",
    "\n",
    "# ------------------------------------------------------------------------------\n",
    "# LightGBM: training and inference\n",
    "# ------------------------------------------------------------------------------\n",
    "lgb_params = {'random_state': SEED,\n",
    "          'metric': 'rmse',\n",
    "          'n_estimators': N_ESTIMATORS,\n",
    "          'n_jobs': -1,\n",
    "          'cat_feature': [x for x in range(len(cat_cols))],\n",
    "          'bagging_seed': SEED,\n",
    "          'feature_fraction_seed': SEED,\n",
    "          'learning_rate': 0.003899156646724397,\n",
    "          'max_depth': 99,\n",
    "          'num_leaves': 63,\n",
    "          'reg_alpha': 9.562925363678952,\n",
    "          'reg_lambda': 9.355810045480153,\n",
    "          'colsample_bytree': 0.2256038826485174,\n",
    "          'min_child_samples': 290,\n",
    "          'subsample_freq': 1,\n",
    "          'subsample': 0.8805303688019942,\n",
    "          'max_bin': 882,\n",
    "          'min_data_per_group': 127,\n",
    "          'cat_smooth': 96,\n",
    "          'cat_l2': 19\n",
    "          }\n",
    "\n",
    "ensemble_params = {\n",
    "    \"lgb\" : lgb_params,\n",
    "    'xgb': {\n",
    "        'random_state': SEED,\n",
    "        'max_depth': 13,\n",
    "        'learning_rate': 0.020206705089028228,\n",
    "        'gamma': 3.5746731812451156,\n",
    "        'min_child_weight': 564,\n",
    "        'n_estimators': 8000,\n",
    "        'colsample_bytree': 0.5015940592112956,\n",
    "        'subsample': 0.6839489639112909,\n",
    "        'reg_lambda': 18.085502002853246,\n",
    "        'reg_alpha': 0.17532087359570606,\n",
    "        'objective': 'reg:squarederror',\n",
    "        'tree_method': 'gpu_hist',\n",
    "        'eval_metric': 'rmse',\n",
    "        'n_jobs': -1\n",
    "    },\n",
    "    'cat': {\n",
    "        'random_state': SEED,\n",
    "        'depth': 3.0,\n",
    "        'fold_len_multiplier': 1.1425259013471902,\n",
    "        'l2_leaf_reg': 7.567589781752637,\n",
    "        'leaf_estimation_backtracking': 'AnyImprovement',\n",
    "        'learning_rate': 0.25121635918496565,\n",
    "        'max_bin': 107.0,\n",
    "        'min_data_in_leaf': 220.0,\n",
    "        'random_strength': 3.2658690042589726,\n",
    "        'n_estimators': 8000,\n",
    "        'eval_metric': 'RMSE',\n",
    "    }\n",
    "}\n",
    "    \n",
    "preds = np.zeros(test.shape[0])\n",
    "kf = KFold(n_splits=N_FOLDS, random_state=22, shuffle=True)\n",
    "rmse = []\n",
    "n = 0\n",
    "\n",
    "for trn_idx, test_idx in kf.split(train[columns], target):\n",
    "\n",
    "    X_tr, X_val=train[columns].iloc[trn_idx], train[columns].iloc[test_idx]\n",
    "    y_tr, y_val=target.iloc[trn_idx], target.iloc[test_idx]\n",
    "\n",
    "    model = EnsembleModel(ensemble_params)\n",
    "\n",
    "    model.fit(X_tr, y_tr, eval_set=[(X_val, y_val)], early_stopping_rounds=100, verbose=False)\n",
    "\n",
    "    preds += model.predict(test[columns], weights=[1.1, 1.0, 0.9]) / kf.n_splits\n",
    "    rmse.append(mean_squared_error(y_val, model.predict(X_val), squared=False))\n",
    "    \n",
    "    print(f\"Fold {n+1}, RMSE: {rmse[n]}\")\n",
    "    n += 1\n",
    "\n",
    "\n",
    "print(\"Mean RMSE: \", np.mean(rmse))\n",
    "end_time = time.time() - since\n",
    "print('Training complete in {:.0f}m {:.0f}s'.format(\n",
    "        end_time // 60, end_time % 60))"
   ]
  },
  {
   "cell_type": "code",
   "execution_count": 10,
   "metadata": {
    "execution": {
     "iopub.execute_input": "2021-02-20T12:12:15.107566Z",
     "iopub.status.busy": "2021-02-20T12:12:15.106928Z",
     "iopub.status.idle": "2021-02-20T12:12:16.135190Z",
     "shell.execute_reply": "2021-02-20T12:12:16.134176Z"
    },
    "papermill": {
     "duration": 1.044767,
     "end_time": "2021-02-20T12:12:16.135335",
     "exception": false,
     "start_time": "2021-02-20T12:12:15.090568",
     "status": "completed"
    },
    "tags": []
   },
   "outputs": [],
   "source": [
    "# submit prediction\n",
    "subm['target'] = preds\n",
    "subm.to_csv(\"ensemble_model_lgb_xgb_cat_other_lgb_params.csv\", index=False)"
   ]
  },
  {
   "cell_type": "code",
   "execution_count": 11,
   "metadata": {
    "execution": {
     "iopub.execute_input": "2021-02-20T12:12:16.166610Z",
     "iopub.status.busy": "2021-02-20T12:12:16.165849Z",
     "iopub.status.idle": "2021-02-20T12:12:16.168956Z",
     "shell.execute_reply": "2021-02-20T12:12:16.167088Z"
    },
    "papermill": {
     "duration": 0.021599,
     "end_time": "2021-02-20T12:12:16.169147",
     "exception": false,
     "start_time": "2021-02-20T12:12:16.147548",
     "status": "completed"
    },
    "tags": []
   },
   "outputs": [
    {
     "name": "stdout",
     "output_type": "stream",
     "text": [
      "We are done. That is all, folks!\n",
      "Finished at  2021-02-20 12:12:16.162011\n",
      "Elapsed time:  1:01:58.884536\n"
     ]
    }
   ],
   "source": [
    "print('We are done. That is all, folks!')\n",
    "finish_time = dt.datetime.now()\n",
    "print(\"Finished at \", finish_time)\n",
    "elapsed = finish_time - start_time\n",
    "print(\"Elapsed time: \", elapsed)"
   ]
  }
 ],
 "metadata": {
  "kernelspec": {
   "display_name": "Python 3",
   "language": "python",
   "name": "python3"
  },
  "language_info": {
   "codemirror_mode": {
    "name": "ipython",
    "version": 3
   },
   "file_extension": ".py",
   "mimetype": "text/x-python",
   "name": "python",
   "nbconvert_exporter": "python",
   "pygments_lexer": "ipython3",
   "version": "3.7.9"
  },
  "papermill": {
   "default_parameters": {},
   "duration": 3730.539644,
   "end_time": "2021-02-20T12:12:17.611092",
   "environment_variables": {},
   "exception": null,
   "input_path": "__notebook__.ipynb",
   "output_path": "__notebook__.ipynb",
   "parameters": {},
   "start_time": "2021-02-20T11:10:07.071448",
   "version": "2.2.2"
  }
 },
 "nbformat": 4,
 "nbformat_minor": 4
}
